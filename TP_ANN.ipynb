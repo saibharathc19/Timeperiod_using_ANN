{
 "cells": [
  {
   "cell_type": "code",
   "execution_count": 2,
   "id": "d23d9c09",
   "metadata": {},
   "outputs": [],
   "source": [
    "import numpy as np\n",
    "import pandas as pd\n",
    "import matplotlib.pyplot as plt\n",
    "import tensorflow as tf"
   ]
  },
  {
   "cell_type": "markdown",
   "id": "698ee697",
   "metadata": {},
   "source": [
    "#### Dataset"
   ]
  },
  {
   "cell_type": "code",
   "execution_count": 3,
   "id": "731eab49",
   "metadata": {},
   "outputs": [
    {
     "name": "stdout",
     "output_type": "stream",
     "text": [
      "[[1.0000e+00 2.0000e+00 3.0000e+00 0.0000e+00 2.2500e+00 9.2970e-02]\n",
      " [1.0000e+00 2.0000e+00 3.0000e+00 1.0000e+02 2.2500e+00 1.5975e-01]\n",
      " [1.0000e+00 2.0000e+00 3.0000e+00 1.0000e+02 4.5000e+00 1.5975e-01]\n",
      " ...\n",
      " [2.2000e+01 6.0000e+00 7.5000e+00 1.0000e+02 1.5000e+01 3.4740e+00]\n",
      " [2.2000e+01 6.0000e+00 7.5000e+00 1.0000e+02 2.0000e+01 3.4740e+00]\n",
      " [2.2000e+01 6.0000e+00 7.5000e+00 1.0000e+02 2.5000e+01 3.4740e+00]]\n",
      "(2818, 5) (2818,) (1208, 5) (1208,)\n"
     ]
    }
   ],
   "source": [
    "df=pd.read_excel('E:\\ML\\Timeperiod estimation\\TP.xlsx', sheet_name='Values of Fundamental Period')\n",
    "data=np.array(df)\n",
    "print(data)\n",
    "val=round((data.shape[0])*0.7)\n",
    "x_train=data[0:val,0:5]\n",
    "y_train=data[0:val,5]\n",
    "\n",
    "x_test=data[val:,0:5]\n",
    "y_test=data[val:,5]\n",
    "\n",
    "\n",
    "print(x_train.shape,y_train.shape,x_test.shape,y_test.shape)\n",
    "# Number of Storeys,Number of Spans,Length of Spans (m),Opening percentage (%),Masonry wall Stiffeness Et (×10^5 kN/m),Period (Sec)"
   ]
  },
  {
   "cell_type": "markdown",
   "id": "86da8891",
   "metadata": {},
   "source": [
    "## Normalization of only input"
   ]
  },
  {
   "cell_type": "code",
   "execution_count": 4,
   "id": "9601d932",
   "metadata": {},
   "outputs": [
    {
     "name": "stdout",
     "output_type": "stream",
     "text": [
      "tf.Tensor(\n",
      "[[-1.619785   -1.8607953  -1.2590955  -1.5770253  -1.2174183 ]\n",
      " [-1.619785   -1.8607953  -1.2590955   0.90881246 -1.2174183 ]\n",
      " [-1.619785   -1.8607953  -1.2590955   0.90881246 -0.92851055]\n",
      " ...\n",
      " [ 1.7513784   0.69711894 -1.2590955  -1.5770253   1.7037605 ]\n",
      " [ 1.7513784   0.69711894 -1.2590955  -0.95556587 -1.2174183 ]\n",
      " [ 1.7513784   0.69711894 -1.2590955  -0.95556587 -0.92851055]], shape=(2818, 5), dtype=float32)\n",
      "Number of storeys Max, Min pre normalization: 16.00, 1.00\n",
      "Number of spans    Max, Min pre normalization: 6.00, 2.00\n",
      "span length    Max, Min pre normalization: 7.50, 3.00\n",
      "Opening percentage Max, Min pre normalization: 100.00, 0.00\n",
      "Masontry wall stiffness    Max, Min pre normalization: 25.00, 2.25\n",
      "Number of storeys Max, Min post normalization: 1.75, -1.62\n",
      "Number of spans    Max, Min post normalization: 0.70, -1.86\n",
      "span length    Max, Min post normalization: 1.59, -1.26\n",
      "Opening percentage Max, Min post normalization: 0.91, -1.58\n",
      "Masontry wall stiffness    Max, Min post normalization: 1.70, -1.22\n"
     ]
    }
   ],
   "source": [
    "norm_1= tf.keras.layers.Normalization(axis=-1)\n",
    "# this is will create a layer to normalize along \n",
    "#the axis=-1 of the input data\n",
    "norm_1.adapt(x_train)\n",
    "# the adapt function calculates the mean\n",
    "#and variance  of the data given to the adapt\n",
    "Xn=norm_1(x_train)\n",
    "Xn_test=norm_1(x_test)\n",
    "\n",
    "print(Xn)\n",
    "\n",
    "print(f\"Number of storeys Max, Min pre normalization: {np.max(x_train[:,0]):0.2f}, {np.min(x_train[:,0]):0.2f}\")\n",
    "print(f\"Number of spans    Max, Min pre normalization: {np.max(x_train[:,1]):0.2f}, {np.min(x_train[:,1]):0.2f}\")\n",
    "print(f\"span length    Max, Min pre normalization: {np.max(x_train[:,2]):0.2f}, {np.min(x_train[:,2]):0.2f}\")\n",
    "print(f\"Opening percentage Max, Min pre normalization: {np.max(x_train[:,3]):0.2f}, {np.min(x_train[:,3]):0.2f}\")\n",
    "print(f\"Masontry wall stiffness    Max, Min pre normalization: {np.max(x_train[:,4]):0.2f}, {np.min(x_train[:,4]):0.2f}\")\n",
    "\n",
    "\n",
    "print(f\"Number of storeys Max, Min post normalization: {np.max(Xn[:,0]):0.2f}, {np.min(Xn[:,0]):0.2f}\")\n",
    "print(f\"Number of spans    Max, Min post normalization: {np.max(Xn[:,1]):0.2f}, {np.min(Xn[:,1]):0.2f}\")\n",
    "print(f\"span length    Max, Min post normalization: {np.max(Xn[:,2]):0.2f}, {np.min(Xn[:,2]):0.2f}\")\n",
    "print(f\"Opening percentage Max, Min post normalization: {np.max(Xn[:,3]):0.2f}, {np.min(Xn[:,3]):0.2f}\")\n",
    "print(f\"Masontry wall stiffness    Max, Min post normalization: {np.max(Xn[:,4]):0.2f}, {np.min(Xn[:,4]):0.2f}\")"
   ]
  },
  {
   "cell_type": "markdown",
   "id": "c3e68b7a",
   "metadata": {},
   "source": [
    "# Development of ANN model"
   ]
  },
  {
   "cell_type": "markdown",
   "id": "3af9d22e",
   "metadata": {},
   "source": [
    "### 1. Creating the layers and neurons,activation functions"
   ]
  },
  {
   "cell_type": "code",
   "execution_count": 5,
   "id": "1c5516ff",
   "metadata": {},
   "outputs": [],
   "source": [
    "tf.random.set_seed(1234)\n",
    "model= tf.keras.Sequential(\n",
    "     [\n",
    "    tf.keras.Input(shape=(5,)),\n",
    "    tf.keras.layers.Dense(3, activation='ReLU', name='L_1'),\n",
    "    tf.keras.layers.Dense(3, activation='ReLU', name='L_2'),\n",
    "    tf.keras.layers.Dense(1, activation='ReLU', name='L_3'),     \n",
    "     ]\n",
    "    )"
   ]
  },
  {
   "cell_type": "code",
   "execution_count": 6,
   "id": "c80c1069",
   "metadata": {},
   "outputs": [
    {
     "name": "stdout",
     "output_type": "stream",
     "text": [
      "Model: \"sequential\"\n",
      "_________________________________________________________________\n",
      " Layer (type)                Output Shape              Param #   \n",
      "=================================================================\n",
      " L_1 (Dense)                 (None, 3)                 18        \n",
      "                                                                 \n",
      " L_2 (Dense)                 (None, 3)                 12        \n",
      "                                                                 \n",
      " L_3 (Dense)                 (None, 1)                 4         \n",
      "                                                                 \n",
      "=================================================================\n",
      "Total params: 34\n",
      "Trainable params: 34\n",
      "Non-trainable params: 0\n",
      "_________________________________________________________________\n"
     ]
    }
   ],
   "source": [
    "model.summary()"
   ]
  },
  {
   "cell_type": "markdown",
   "id": "bf4fc21c",
   "metadata": {},
   "source": [
    "### 2. Doing the compile and fit commands"
   ]
  },
  {
   "cell_type": "code",
   "execution_count": 7,
   "id": "006651e8",
   "metadata": {},
   "outputs": [
    {
     "name": "stdout",
     "output_type": "stream",
     "text": [
      "Epoch 1/10\n",
      "89/89 [==============================] - 2s 3ms/step - loss: 0.1330 - accuracy: 3.5486e-04\n",
      "Epoch 2/10\n",
      "89/89 [==============================] - 0s 3ms/step - loss: 0.0227 - accuracy: 3.5486e-04\n",
      "Epoch 3/10\n",
      "89/89 [==============================] - 0s 3ms/step - loss: 0.0198 - accuracy: 3.5486e-04\n",
      "Epoch 4/10\n",
      "89/89 [==============================] - 0s 3ms/step - loss: 0.0196 - accuracy: 3.5486e-04\n",
      "Epoch 5/10\n",
      "89/89 [==============================] - 0s 3ms/step - loss: 0.0193 - accuracy: 3.5486e-04\n",
      "Epoch 6/10\n",
      "89/89 [==============================] - 0s 3ms/step - loss: 0.0194 - accuracy: 3.5486e-04\n",
      "Epoch 7/10\n",
      "89/89 [==============================] - 0s 3ms/step - loss: 0.0185 - accuracy: 3.5486e-04\n",
      "Epoch 8/10\n",
      "89/89 [==============================] - 0s 3ms/step - loss: 0.0166 - accuracy: 3.5486e-04\n",
      "Epoch 9/10\n",
      "89/89 [==============================] - 0s 3ms/step - loss: 0.0128 - accuracy: 3.5486e-04\n",
      "Epoch 10/10\n",
      "89/89 [==============================] - 0s 3ms/step - loss: 0.0096 - accuracy: 3.5486e-04\n"
     ]
    },
    {
     "data": {
      "text/plain": [
       "<keras.callbacks.History at 0x16b79f70dc0>"
      ]
     },
     "execution_count": 7,
     "metadata": {},
     "output_type": "execute_result"
    }
   ],
   "source": [
    "model.compile(\n",
    "loss=tf.keras.losses.MeanSquaredError(),\n",
    "optimizer=tf.keras.optimizers.Adam(learning_rate=0.01),\n",
    "metrics=['accuracy']\n",
    ")\n",
    "\n",
    "model.fit(Xn,y_train,epochs=10)"
   ]
  },
  {
   "cell_type": "code",
   "execution_count": 8,
   "id": "9248c8f8",
   "metadata": {},
   "outputs": [
    {
     "name": "stdout",
     "output_type": "stream",
     "text": [
      "89/89 [==============================] - 1s 2ms/step\n",
      "[[0.18799861]\n",
      " [0.18799861]\n",
      " [0.18799861]\n",
      " ...\n",
      " [0.3679043 ]\n",
      " [1.1686105 ]\n",
      " [1.1237886 ]]\n"
     ]
    }
   ],
   "source": [
    "y_pred_train=model.predict(Xn)\n",
    "\n",
    "print(y_pred_train)\n"
   ]
  },
  {
   "cell_type": "code",
   "execution_count": 9,
   "id": "3bdb609b",
   "metadata": {},
   "outputs": [
    {
     "name": "stdout",
     "output_type": "stream",
     "text": [
      "38/38 [==============================] - 0s 2ms/step\n",
      "[[1.0640261 ]\n",
      " [0.98932296]\n",
      " [0.91461986]\n",
      " ...\n",
      " [2.7562165 ]\n",
      " [2.6566124 ]\n",
      " [2.557008  ]]\n"
     ]
    }
   ],
   "source": [
    "y_pred_test=model.predict(Xn_test)\n",
    "print(y_pred_test)"
   ]
  },
  {
   "cell_type": "code",
   "execution_count": 10,
   "id": "252e2ddb",
   "metadata": {},
   "outputs": [
    {
     "name": "stdout",
     "output_type": "stream",
     "text": [
      "89/89 [==============================] - 1s 3ms/step - loss: 0.0076 - accuracy: 3.5486e-04\n",
      "38/38 [==============================] - 0s 3ms/step - loss: 0.0673 - accuracy: 8.2781e-04\n"
     ]
    }
   ],
   "source": [
    "loss_train=model.evaluate(Xn,y_train)\n",
    "loss_test,accuracy=model.evaluate(Xn_test,y_test)\n",
    "    \n",
    "    "
   ]
  },
  {
   "cell_type": "code",
   "execution_count": 11,
   "id": "0b816604",
   "metadata": {},
   "outputs": [
    {
     "data": {
      "image/png": "[encoded data removed]",
      "text/plain": [
       "<Figure size 432x288 with 1 Axes>"
      ]
     },
     "metadata": {
      "needs_background": "light"
     },
     "output_type": "display_data"
    }
   ],
   "source": [
    "X_plot=np.array(range(data.shape[0]))\n",
    "Y_prediction=np.concatenate((y_pred_train,y_pred_test))\n",
    "\n",
    "\n",
    "\n",
    "# Add labels and title\n",
    "# plot the first line\n",
    "plt.plot(X_plot, Y_prediction, label='Prediction')\n",
    "\n",
    "# plot the second line\n",
    "plt.plot(X_plot, data[:,5], label='Actual')\n",
    "\n",
    "# set the x-label\n",
    "plt.xlabel('Number of samples')\n",
    "\n",
    "# set the y-label for the first plot\n",
    "plt.ylabel('Time period')\n",
    "\n",
    "plt.legend()\n",
    "plt.title('Variation of Time period')\n",
    "\n",
    "plt.show()\n"
   ]
  },
  {
   "cell_type": "code",
   "execution_count": null,
   "id": "bf795c97",
   "metadata": {},
   "outputs": [],
   "source": []
  },
  {
   "cell_type": "code",
   "execution_count": null,
   "id": "4bbd47e1",
   "metadata": {},
   "outputs": [],
   "source": []
  },
  {
   "cell_type": "code",
   "execution_count": null,
   "id": "7268baa1",
   "metadata": {},
   "outputs": [],
   "source": []
  }
 ],
 "metadata": {
  "kernelspec": {
   "display_name": "Python 3 (ipykernel)",
   "language": "python",
   "name": "python3"
  },
  "language_info": {
   "codemirror_mode": {
    "name": "ipython",
    "version": 3
   },
   "file_extension": ".py",
   "mimetype": "text/x-python",
   "name": "python",
   "nbconvert_exporter": "python",
   "pygments_lexer": "ipython3",
   "version": "3.9.12"
  }
 },
 "nbformat": 4,
 "nbformat_minor": 5
}
